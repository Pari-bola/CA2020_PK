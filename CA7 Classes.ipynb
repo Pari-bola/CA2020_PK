{
 "cells": [
  {
   "cell_type": "code",
   "execution_count": 8,
   "metadata": {},
   "outputs": [
    {
     "name": "stdout",
     "output_type": "stream",
     "text": [
      "Enter Value of D24\n",
      "The list form of D is ['24']\n",
      "8.94427190999916\n"
     ]
    }
   ],
   "source": [
    "# TASK SEVEN: CLASSES AND OBJECTS \n",
    "\n",
    "# 1. Write a program that calculates and prints the value according to the given formula: \n",
    "# Q= Square root of [(2*C*D)/H] \n",
    "# Following are the fixed values of C and H: \n",
    "# C is 50. H is 30. \n",
    "# D is the variable whose values should be input to your program in a comma-separated sequence. \n",
    "import math\n",
    "\n",
    "C=50\n",
    "H=30\n",
    "D=input('Enter Value of D')\n",
    "list_D=D.split(',')\n",
    "print(f\"The list form of D is {list_D}\")\n",
    "\n",
    "\n",
    "for i in range(len(list_D)):\n",
    "    Q=math.sqrt((2*C*int(list_D[i])/H))\n",
    "    print(Q)"
   ]
  },
  {
   "cell_type": "code",
   "execution_count": 10,
   "metadata": {},
   "outputs": [
    {
     "name": "stdout",
     "output_type": "stream",
     "text": [
      "256\n",
      "100\n"
     ]
    }
   ],
   "source": [
    "# 2. Define a class named Shape and its subclass Square. \n",
    "#T he Square class has an init function which takes a length as argument. \n",
    "# Both classes have an area function which can print the area of the shape where Shape’s area is 0 by default. \n",
    "\n",
    "    \n",
    "class Shape:\n",
    "    def area(self,l=0):\n",
    "        ret=l*l\n",
    "        return ret\n",
    "    \n",
    "class Square(Shape):\n",
    "    def __init__(self,length):\n",
    "        self.length=length\n",
    "\n",
    "    def area(self,l=0):\n",
    "        l=self.length\n",
    "        ret=l*l\n",
    "        return ret\n",
    "        \n",
    "s2=Shape()\n",
    "print(s2.area(16))\n",
    "\n",
    "s1=Square(10)\n",
    "print(s1.area())"
   ]
  },
  {
   "cell_type": "code",
   "execution_count": 11,
   "metadata": {},
   "outputs": [
    {
     "name": "stdout",
     "output_type": "stream",
     "text": [
      "[[-10, 2, 8], [-7, -3, 10]]\n"
     ]
    },
    {
     "data": {
      "text/plain": [
       "[[-10, 2, 8], [-7, -3, 10]]"
      ]
     },
     "execution_count": 11,
     "metadata": {},
     "output_type": "execute_result"
    }
   ],
   "source": [
    "# 3.Create a class to find the three elements that sum to zero from a set of n real numbers. \n",
    "# Input array: [-25,-10,-7,-3,2,4,8,10] \n",
    "# Output: [[-10,2,8],[-7,-3,10]] \n",
    "\n",
    "class ThreeElements:\n",
    "    def find_zero(self,array):\n",
    "        fin_array=[]\n",
    "        for i in array:\n",
    "            for j in array:\n",
    "                for k in array:\n",
    "                    if i+j+k==0:\n",
    "                        x1=sorted([i,j,k])\n",
    "                        if x1 not in fin_array:\n",
    "                            fin_array.append(x1)\n",
    "        print (fin_array)\n",
    "        return fin_array\n",
    "\n",
    "test1=ThreeElements()\n",
    "test1.find_zero([-25,-10,-7,-3,2,4,8,10])"
   ]
  },
  {
   "cell_type": "code",
   "execution_count": 15,
   "metadata": {},
   "outputs": [
    {
     "name": "stdout",
     "output_type": "stream",
     "text": [
      "0 1\n"
     ]
    }
   ],
   "source": [
    "class Test: \n",
    "    def __init__(self): \n",
    "        self.x = 0 \n",
    "        \n",
    "class Derived_Test(Test): \n",
    "    def __init__(self): \n",
    "        super().__init__()\n",
    "        self.y = 1 \n",
    "        \n",
    "def main(): \n",
    "    b = Derived_Test() \n",
    "    print(b.x,b.y) \n",
    "main()"
   ]
  },
  {
   "cell_type": "code",
   "execution_count": 16,
   "metadata": {},
   "outputs": [
    {
     "name": "stdout",
     "output_type": "stream",
     "text": [
      "30\n"
     ]
    }
   ],
   "source": [
    "class A: \n",
    "    def __init__(self): \n",
    "        self.multiply(15) \n",
    "        print(self.i) \n",
    "\n",
    "    def multiply(self, i): \n",
    "        self.i = 4 * i; \n",
    "\n",
    "class B(A): \n",
    "    def __init__(self): \n",
    "        super().__init__() \n",
    "\n",
    "    def multiply(self, i): \n",
    "        self.i = 2 * i; \n",
    "\n",
    "obj = B() "
   ]
  },
  {
   "cell_type": "code",
   "execution_count": 20,
   "metadata": {},
   "outputs": [
    {
     "name": "stdout",
     "output_type": "stream",
     "text": [
      "5 hours and  30 Minutes\n",
      "330 Minutes\n"
     ]
    }
   ],
   "source": [
    "# 5. Create a Time class and initialize it with hours and minutes. \n",
    "\n",
    "# Make a method addTime which should take two time object and add them. \n",
    "# E.g.- (2 hour and 50 min)+(1 hr and 20 min) is (4 hr and 10 min) \n",
    "\n",
    "\n",
    "class time:\n",
    "    def __init__(self,hours,minutes):\n",
    "        self.hours=hours\n",
    "        self.minutes=minutes\n",
    "\n",
    "        \n",
    "# Make a method addTime which should print the time. \n",
    "        \n",
    "def addTime(t1,t2):\n",
    "    time1 = (t1.hours*60) + t1.minutes\n",
    "    time2 = (t2.hours*60) + t2.minutes\n",
    "    result = time1+time2\n",
    "    h = result//60\n",
    "    m = result%60\n",
    "    #print(hr,'Hours and ',mi,' Minutes')\n",
    "    return [h,m]\n",
    "\n",
    "# Make a method displayTime which should print the time. \n",
    "\n",
    "def displayTime(h,m):\n",
    "    out=addTime(h,m)\n",
    "    print(out[0],'hours and ',out[1],'Minutes')\n",
    "    \n",
    "\n",
    "# Make a method DisplayMinute which should display the total minutes in the Time. E.g.- (1 hr 2 min) should display 62 minute.     \n",
    "\n",
    "def DisplayMinute(h,m):\n",
    "    out_min= addTime(h,m)\n",
    "    total_min=(out_min[0]*60)+out_min[1]\n",
    "    print(total_min,'Minutes')\n",
    "    \n",
    "o1=time(3,50)\n",
    "o2 = time(1,40)\n",
    "\n",
    "addTime(o1,o2)\n",
    "\n",
    "displayTime(o1,o2)\n",
    "\n",
    "DisplayMinute(o1,o2)"
   ]
  },
  {
   "cell_type": "code",
   "execution_count": 23,
   "metadata": {},
   "outputs": [
    {
     "name": "stdout",
     "output_type": "stream",
     "text": [
      "Age is not Valid, Setting age to 0\n",
      "You are young.\n",
      "You are old\n"
     ]
    }
   ],
   "source": [
    "# 6.  Write a Person class with an instance variable, , and a constructor that takes an integer, , as a parameter. The constructor must assign  to  after confirming the argument passed as  is not negative; if a negative argument is passed as , the constructor should set  to  and print Age is not valid, setting age to 0.. In addition, you must write the following instance methods: \n",
    "# yearPasses() should increase the  instance variable by . \n",
    "\n",
    "# amIOld()  should perform the following conditional actions: \n",
    "\n",
    "# If <18, print You are young.. \n",
    "\n",
    "# If 13 to 19, print You are a teenager.. \n",
    "\n",
    "# Otherwise, print You are old..  \n",
    "\n",
    "# Sample Input: \n",
    "\n",
    "# 4 \n",
    "\n",
    "# -1 \n",
    "\n",
    "# 10 \n",
    "\n",
    "# 16 \n",
    "\n",
    "# 18 \n",
    "\n",
    "\n",
    "\n",
    "class person:\n",
    "    def __init__(self,a=0):\n",
    "        if a<0:\n",
    "            self.a=0\n",
    "            print('Age is not Valid, Setting age to 0')\n",
    "        else:\n",
    "            self.a=a\n",
    "        self.amiOld()\n",
    "        \n",
    "    def amiOld(self):\n",
    "        if self.a<18:\n",
    "            print('You are young.')\n",
    "        if self.a>13 and self.a<=20:\n",
    "            print('You are a teenager.')\n",
    "        else:\n",
    "            print('You are old')\n",
    "    \n",
    "    def yearPasses(self):\n",
    "        print('Year passed')\n",
    "\n",
    "individual1=person(-4)"
   ]
  },
  {
   "cell_type": "code",
   "execution_count": null,
   "metadata": {},
   "outputs": [],
   "source": []
  }
 ],
 "metadata": {
  "kernelspec": {
   "display_name": "Python 3",
   "language": "python",
   "name": "python3"
  },
  "language_info": {
   "codemirror_mode": {
    "name": "ipython",
    "version": 3
   },
   "file_extension": ".py",
   "mimetype": "text/x-python",
   "name": "python",
   "nbconvert_exporter": "python",
   "pygments_lexer": "ipython3",
   "version": "3.8.3"
  }
 },
 "nbformat": 4,
 "nbformat_minor": 4
}
